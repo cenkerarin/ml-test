{
 "cells": [
  {
   "cell_type": "code",
   "execution_count": 1,
   "id": "17ed1927",
   "metadata": {},
   "outputs": [],
   "source": [
    "import numpy as np\n",
    "import pandas as pd\n",
    "import matplotlib.pyplot as plt\n",
    "import sklearn\n",
    "import seaborn as sns"
   ]
  },
  {
   "cell_type": "code",
   "execution_count": null,
   "id": "17a42a8b",
   "metadata": {},
   "outputs": [],
   "source": [
    "train = pd.read_csv('/Users/cenkerarin/ml_test/datasets/titanic/train.csv')\n",
    "test = pd.read_csv('/Users/cenkerarin/ml_test/datasets/titanic/test.csv')"
   ]
  }
 ],
 "metadata": {
  "kernelspec": {
   "display_name": ".venv",
   "language": "python",
   "name": "python3"
  },
  "language_info": {
   "codemirror_mode": {
    "name": "ipython",
    "version": 3
   },
   "file_extension": ".py",
   "mimetype": "text/x-python",
   "name": "python",
   "nbconvert_exporter": "python",
   "pygments_lexer": "ipython3",
   "version": "3.13.3"
  }
 },
 "nbformat": 4,
 "nbformat_minor": 5
}
