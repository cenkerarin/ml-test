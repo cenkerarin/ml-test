{
 "cells": [
  {
   "cell_type": "code",
   "execution_count": 10,
   "id": "9614bcd4",
   "metadata": {},
   "outputs": [],
   "source": [
    "import numpy as np\n",
    "import pandas as pd\n",
    "import matplotlib.pyplot as plt\n",
    "import seaborn as sns\n",
    "from sklearn.model_selection import train_test_split\n",
    "from sklearn.svm import SVC\n",
    "from sklearn.metrics import accuracy_score, classification_report"
   ]
  },
  {
   "cell_type": "code",
   "execution_count": 11,
   "id": "a1fcc633",
   "metadata": {},
   "outputs": [],
   "source": [
    "data = pd.read_csv('/Users/cenkerarin/ml_test/datasets/diabetes.csv')"
   ]
  },
  {
   "cell_type": "code",
   "execution_count": 12,
   "id": "60c82fc6",
   "metadata": {},
   "outputs": [],
   "source": [
    "columns_to_scale = ['Age', 'Insulin', 'SkinThickness','DiabetesPedigreeFunction']\n",
    "for col in columns_to_scale:\n",
    "    data[col] = np.log1p(data[col])"
   ]
  },
  {
   "cell_type": "code",
   "execution_count": 13,
   "id": "b704add8",
   "metadata": {},
   "outputs": [],
   "source": [
    "x = data.drop('Outcome', axis=1)\n",
    "y = data['Outcome']\n",
    "x_train, x_test, y_train, y_test = train_test_split(x, y, test_size=0.2, random_state=42)"
   ]
  },
  {
   "cell_type": "code",
   "execution_count": 14,
   "id": "24b1a503",
   "metadata": {},
   "outputs": [
    {
     "name": "stdout",
     "output_type": "stream",
     "text": [
      "SVM Accuracy: 0.7532\n",
      "True Positives: 46\n",
      "True Negatives: 70\n",
      "False Positives: 29\n",
      "False Negatives: 9\n"
     ]
    }
   ],
   "source": [
    "class SVM:\n",
    "    def __init__(self, learning_rate=0.001, lambda_param=0.01, n_iters=1000):\n",
    "        self.lr = learning_rate\n",
    "        self.lambda_param = lambda_param\n",
    "        self.n_iters = n_iters\n",
    "        self.w = None\n",
    "        self.b = None\n",
    "\n",
    "    def fit(self, X, y):\n",
    "        n_samples, n_features = X.shape\n",
    "        \n",
    "        y_ = np.where(y <= 0, -1, 1)\n",
    "        \n",
    "        self.w = np.zeros(n_features)\n",
    "        self.b = 0\n",
    "\n",
    "        for i in range(self.n_iters):\n",
    "            for idx, x_i in enumerate(X):\n",
    "                condition = y_[idx] * (np.dot(x_i, self.w) - self.b) >= 1\n",
    "                \n",
    "                if condition:\n",
    "                    self.w -= self.lr * (2 * self.lambda_param * self.w)\n",
    "                else:\n",
    "                    \n",
    "                    self.w -= self.lr * (2 * self.lambda_param * self.w - np.dot(x_i, y_[idx]))\n",
    "                    self.b -= self.lr * y_[idx]\n",
    "\n",
    "    def predict(self, X):\n",
    "        approx = np.dot(X, self.w) - self.b\n",
    "        return np.sign(approx)\n",
    "\n",
    "svm = SVM(learning_rate=0.001, lambda_param=0.01, n_iters=1000)\n",
    "svm.fit(x_train.values, y_train.values)\n",
    "\n",
    "y_pred = svm.predict(x_test.values)\n",
    "\n",
    "y_pred = np.where(y_pred == -1, 0, 1)\n",
    "\n",
    "accuracy = np.mean(y_pred == y_test.values)\n",
    "print(f\"SVM Accuracy: {accuracy:.4f}\")\n",
    "\n",
    "print(f\"True Positives: {np.sum((y_pred == 1) & (y_test.values == 1))}\")\n",
    "print(f\"True Negatives: {np.sum((y_pred == 0) & (y_test.values == 0))}\")\n",
    "print(f\"False Positives: {np.sum((y_pred == 1) & (y_test.values == 0))}\")\n",
    "print(f\"False Negatives: {np.sum((y_pred == 0) & (y_test.values == 1))}\")"
   ]
  }
 ],
 "metadata": {
  "kernelspec": {
   "display_name": ".venv",
   "language": "python",
   "name": "python3"
  },
  "language_info": {
   "codemirror_mode": {
    "name": "ipython",
    "version": 3
   },
   "file_extension": ".py",
   "mimetype": "text/x-python",
   "name": "python",
   "nbconvert_exporter": "python",
   "pygments_lexer": "ipython3",
   "version": "3.13.3"
  }
 },
 "nbformat": 4,
 "nbformat_minor": 5
}
