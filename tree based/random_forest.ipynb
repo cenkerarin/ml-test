{
 "cells": [
  {
   "cell_type": "code",
   "execution_count": 2,
   "id": "230adf60",
   "metadata": {},
   "outputs": [],
   "source": [
    "import numpy as np\n",
    "import pandas as pd\n",
    "import matplotlib.pyplot as plt\n",
    "import seaborn as sns\n",
    "import sklearn\n",
    "from sklearn import datasets, neighbors\n",
    "from sklearn.model_selection import train_test_split\n",
    "from sklearn.metrics import accuracy_score, classification_report"
   ]
  },
  {
   "cell_type": "code",
   "execution_count": 3,
   "id": "b7206461",
   "metadata": {},
   "outputs": [],
   "source": [
    "data = pd.read_csv('/Users/cenkerarin/ml_test/datasets/winequality-red.csv')"
   ]
  },
  {
   "cell_type": "code",
   "execution_count": null,
   "id": "f4b9b32e",
   "metadata": {},
   "outputs": [],
   "source": [
    "from sklearn.preprocessing import MinMaxScaler\n",
    "\n",
    "scaler = MinMaxScaler()\n",
    "data['alcohol'] = scaler.fit_transform(data[['alcohol']])\n",
    "data['sulphates'] = scaler.fit_transform(data[['sulphates']])\n",
    "data['free sulfur dioxide'] = scaler.fit_transform(data[['free sulfur dioxide']])\n",
    "data['total sulfur dioxide'] = scaler.fit_transform(data[['total sulfur dioxide']])"
   ]
  }
 ],
 "metadata": {
  "kernelspec": {
   "display_name": ".venv",
   "language": "python",
   "name": "python3"
  },
  "language_info": {
   "codemirror_mode": {
    "name": "ipython",
    "version": 3
   },
   "file_extension": ".py",
   "mimetype": "text/x-python",
   "name": "python",
   "nbconvert_exporter": "python",
   "pygments_lexer": "ipython3",
   "version": "3.13.3"
  }
 },
 "nbformat": 4,
 "nbformat_minor": 5
}
